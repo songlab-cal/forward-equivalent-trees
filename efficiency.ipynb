{
 "cells": [
  {
   "cell_type": "code",
   "execution_count": 1,
   "id": "0c9cc199-440c-47f5-a6b1-63c57919618d",
   "metadata": {
    "tags": []
   },
   "outputs": [],
   "source": [
    "import time\n",
    "import numpy as np\n",
    "import matplotlib.pyplot as plt\n",
    "\n",
    "from gcdyn import bdms, mutators, poisson"
   ]
  },
  {
   "cell_type": "markdown",
   "id": "c0440bec-819b-4516-8739-fcb590b9efe6",
   "metadata": {},
   "source": [
    "# Single-type simulation"
   ]
  },
  {
   "cell_type": "code",
   "execution_count": 2,
   "id": "6a14b529-0f09-47f5-95a1-42df564592cf",
   "metadata": {
    "tags": []
   },
   "outputs": [
    {
     "name": "stdout",
     "output_type": "stream",
     "text": [
      "Sampling probability = 0.10000000000000002\n",
      "Expected (observed) number of tips = 100.0\n",
      "Expected (unobserved) number of tips = 999.9999999999998\n"
     ]
    }
   ],
   "source": [
    "expected_ntips_obs = 100\n",
    "expected_ntips_unobs = 1000\n",
    "\n",
    "λ = 1\n",
    "t = np.log(expected_ntips_unobs)/λ\n",
    "dt = .01\n",
    "\n",
    "rho0 = min(expected_ntips_obs / np.exp(λ*t), 1)\n",
    "print(f\"Sampling probability = {rho0}\")\n",
    "print(f\"Expected (observed) number of tips = {rho0 * np.exp(λ*t)}\")\n",
    "print(f\"Expected (unobserved) number of tips = {np.exp(λ*t)}\")"
   ]
  },
  {
   "cell_type": "code",
   "execution_count": 3,
   "id": "8348c469-d180-4b52-a194-a47ff8da8ed5",
   "metadata": {
    "tags": []
   },
   "outputs": [
    {
     "data": {
      "image/png": "[encoded data removed]",
      "text/plain": [
       "<Figure size 640x480 with 1 Axes>"
      ]
     },
     "metadata": {},
     "output_type": "display_data"
    }
   ],
   "source": [
    "ts = np.arange(0,t,dt)\n",
    "Es = np.zeros(ts.shape)\n",
    "\n",
    "Es[0] = 1 - rho0\n",
    "for i in range(1,len(ts)):\n",
    "    Es[i] = Es[i-1] + dt*λ*(Es[i-1]**2-Es[i-1])\n",
    "    \n",
    "plt.plot(ts,1-Es);\n",
    "plt.ylabel(\"in sample probability\");\n",
    "plt.xlabel(\"time (since present)\");"
   ]
  },
  {
   "cell_type": "code",
   "execution_count": 4,
   "id": "ed9229db-d9f7-43e6-816a-5913e980a786",
   "metadata": {
    "tags": []
   },
   "outputs": [],
   "source": [
    "def Efnc(t):\n",
    "    return np.interp(t,ts,Es)\n",
    "\n",
    "def modulation(λ, x, t):\n",
    "    # return λ \n",
    "    return λ * (1-Efnc(t))"
   ]
  },
  {
   "cell_type": "code",
   "execution_count": 5,
   "id": "c87242fb-41fb-455d-bfc3-f44360aef721",
   "metadata": {
    "tags": []
   },
   "outputs": [],
   "source": [
    "birth_rate_modulated = poisson.ModulatedRateResponse(\n",
    "    poisson.ConstantResponse(λ),\n",
    "    modulation\n",
    ")\n",
    "birth_rate_base = poisson.ConstantResponse(λ)\n",
    "death_rate = poisson.ConstantResponse(0.0)\n",
    "mutation_rate = poisson.ConstantResponse(0.0)"
   ]
  },
  {
   "cell_type": "code",
   "execution_count": 6,
   "id": "cfdcb1e4-d645-4f80-a51d-b1c819c20079",
   "metadata": {
    "tags": []
   },
   "outputs": [],
   "source": [
    "mutator = mutators.DiscreteMutator(state_space=[0],transition_matrix=np.matrix([1]))"
   ]
  },
  {
   "cell_type": "code",
   "execution_count": 27,
   "id": "ecb79a48-91c1-40c3-b21e-05f8c92cd151",
   "metadata": {
    "tags": []
   },
   "outputs": [
    {
     "name": "stdout",
     "output_type": "stream",
     "text": [
      "Δt=1.7443507417499384, Λ=1.7191395895340535, τ=1.7191341927370476, λ=0.9911145068302577\n",
      "try 50 succeeded, tip count: 392\r"
     ]
    }
   ],
   "source": [
    "# modulated simulation\n",
    "tip_counts_modulated = []\n",
    "times_modulated = []\n",
    "error_seeds_modulated = []\n",
    "for i in range(50):\n",
    "    rng = np.random.default_rng(seed=i)\n",
    "    try:\n",
    "        start_time = time.time()\n",
    "        tree = bdms.TreeNode()\n",
    "        tree.x = 0\n",
    "        tree.evolve(\n",
    "            t,\n",
    "            birth_response=birth_rate_modulated,\n",
    "            death_response=death_rate,\n",
    "            mutation_response=mutation_rate,\n",
    "            mutator=mutator,\n",
    "            min_survivors=1,\n",
    "            capacity=10000,\n",
    "            birth_mutations=False,\n",
    "            seed=rng,\n",
    "        )\n",
    "        times_modulated = times_modulated + [time.time() - start_time]\n",
    "        print(f\"try {i + 1} succeeded, tip count: {len(tree)}\",end=\"\\r\")\n",
    "        tip_counts_modulated = tip_counts_modulated + [len(tree)]\n",
    "    except:\n",
    "        error_seeds_modulated = error_seeds_modulated + [i]\n",
    "        continue"
   ]
  },
  {
   "cell_type": "code",
   "execution_count": 28,
   "id": "765ad508-040e-4e97-b100-8d73bc787bac",
   "metadata": {
    "tags": []
   },
   "outputs": [
    {
     "name": "stdout",
     "output_type": "stream",
     "text": [
      "try 50 succeeded, tip count: 343\r"
     ]
    }
   ],
   "source": [
    "# full simulation\n",
    "tip_counts_pruned = []\n",
    "tip_counts_full = []\n",
    "times_base = []\n",
    "error_seeds_base = []\n",
    "for i in range(50):\n",
    "    rng = np.random.default_rng(seed=i)\n",
    "    try:\n",
    "        start_time = time.time()\n",
    "        tree = bdms.TreeNode()\n",
    "        tree.x = 0\n",
    "        tree.evolve(\n",
    "            t,\n",
    "            birth_response=birth_rate_base,\n",
    "            death_response=death_rate,\n",
    "            mutation_response=mutation_rate,\n",
    "            mutator=mutator,\n",
    "            min_survivors=1,\n",
    "            capacity=10000,\n",
    "            birth_mutations=False,\n",
    "            seed=rng,\n",
    "        )\n",
    "        tip_counts_full = tip_counts_full + [len(tree)]\n",
    "        tree.sample_survivors(p=rho0)\n",
    "        tree.prune()\n",
    "        print(f\"try {i + 1} succeeded, tip count: {len(tree)}\",end=\"\\r\")\n",
    "        tip_counts_pruned = tip_counts_pruned + [len(tree)]\n",
    "        times_base = times_base + [time.time() - start_time]\n",
    "    except:\n",
    "        error_seeds_base = error_seeds_base + [i]\n",
    "        continue"
   ]
  },
  {
   "cell_type": "code",
   "execution_count": 34,
   "id": "a0825247-d368-42a4-ab1c-4163e85bdb30",
   "metadata": {
    "tags": []
   },
   "outputs": [
    {
     "name": "stdout",
     "output_type": "stream",
     "text": [
      "[73, 62, 186, 194, 8, 33, 45, 112, 70, 4, 67, 99, 123, 91, 4, 8, 153, 44, 176, 128, 187, 152, 226, 180, 7, 97, 37, 73, 58, 190, 16, 65, 125, 71, 170, 113, 48, 19, 202, 60, 1, 18, 91, 20, 46, 57, 20, 3, 39]\n",
      "[83, 70, 192, 217, 6, 34, 58, 99, 99, 4, 74, 103, 116, 97, 3, 3, 142, 40, 161, 119, 192, 147, 255, 165, 6, 98, 25, 90, 62, 221, 14, 57, 111, 183, 66, 192, 122, 44, 8, 233, 34, 1, 24, 95, 20, 35, 57, 21, 1, 34]\n",
      "[827, 692, 1846, 2108, 51, 336, 464, 971, 760, 48, 658, 1106, 1120, 954, 20, 45, 1480, 348, 1625, 1210, 1963, 1394, 2314, 1708, 50, 1087, 394, 808, 759, 2248, 124, 652, 1093, 1773, 759, 1996, 1025, 468, 111, 2192, 429, 7, 195, 889, 168, 382, 581, 221, 20, 306]\n"
     ]
    }
   ],
   "source": [
    "print(tip_counts_modulated)\n",
    "print(tip_counts_pruned)\n",
    "print(tip_counts_full)"
   ]
  },
  {
   "cell_type": "code",
   "execution_count": 33,
   "id": "9e4effde-2a25-419c-8669-6f987da69a7d",
   "metadata": {
    "tags": []
   },
   "outputs": [
    {
     "name": "stdout",
     "output_type": "stream",
     "text": [
      "Mean time (efficient): 13.112824868182747\n",
      "Median time (efficient): 5.448243141174316\n",
      "Mean time (full simulation): 11.89206003665924\n",
      "Median time (full simulation): 5.70092511177063\n"
     ]
    }
   ],
   "source": [
    "print(f\"Mean time (efficient): {np.mean(times_modulated)}\")\n",
    "print(f\"Median time (efficient): {np.median(times_modulated)}\")\n",
    "print(f\"Mean time (full simulation): {np.mean(times_base)}\")\n",
    "print(f\"Median time (full simulation): {np.median(times_base)}\")"
   ]
  },
  {
   "cell_type": "code",
   "execution_count": 37,
   "id": "37d41660-4f07-48c3-b4fe-d9fc5c54892b",
   "metadata": {
    "tags": []
   },
   "outputs": [
    {
     "name": "stdout",
     "output_type": "stream",
     "text": [
      "Number of error seeds (efficient): 1\n"
     ]
    }
   ],
   "source": [
    "print(f\"Number of error seeds (efficient): {len(error_seeds_modulated)}\")"
   ]
  },
  {
   "cell_type": "code",
   "execution_count": 38,
   "id": "e272476e-1545-4896-b01a-41bc4fb2c0c5",
   "metadata": {
    "tags": []
   },
   "outputs": [],
   "source": [
    "from scipy.stats import mannwhitneyu"
   ]
  },
  {
   "cell_type": "code",
   "execution_count": 39,
   "id": "9d4b680a-fa67-4cdb-8280-19e4b966c3af",
   "metadata": {
    "tags": []
   },
   "outputs": [
    {
     "data": {
      "text/plain": [
       "MannwhitneyuResult(statistic=1212.5, pvalue=0.9330612547010524)"
      ]
     },
     "execution_count": 39,
     "metadata": {},
     "output_type": "execute_result"
    }
   ],
   "source": [
    "mannwhitneyu(tip_counts_modulated,tip_counts_pruned)"
   ]
  },
  {
   "cell_type": "code",
   "execution_count": 40,
   "id": "79721fc1-b2ed-4fbf-9b45-4d07f6bc09e9",
   "metadata": {
    "tags": []
   },
   "outputs": [
    {
     "name": "stdout",
     "output_type": "stream",
     "text": [
      "Mean tip count (efficient): 83.08163265306122\n",
      "Median tip count (efficient): 67.0\n",
      "Mean observed tip count (full simulation): 86.66\n",
      "Median observed tip count (full simulation): 72.0\n",
      "Mean full tip count (full simulation): 855.7\n",
      "Median full tip count (full simulation): 759.0\n"
     ]
    }
   ],
   "source": [
    "print(f\"Mean tip count (efficient): {np.mean(tip_counts_modulated)}\")\n",
    "print(f\"Median tip count (efficient): {np.median(tip_counts_modulated)}\")\n",
    "print(f\"Mean observed tip count (full simulation): {np.mean(tip_counts_pruned)}\")\n",
    "print(f\"Median observed tip count (full simulation): {np.median(tip_counts_pruned)}\")\n",
    "print(f\"Mean full tip count (full simulation): {np.mean(tip_counts_full)}\")\n",
    "print(f\"Median full tip count (full simulation): {np.median(tip_counts_full)}\")"
   ]
  },
  {
   "cell_type": "markdown",
   "id": "3cff142e-4805-46b7-a56b-d088592c928d",
   "metadata": {},
   "source": [
    "# Single type simulation (extreme)"
   ]
  },
  {
   "cell_type": "code",
   "execution_count": 41,
   "id": "0afa974a-d187-40e0-af7f-e3d38a94f900",
   "metadata": {
    "tags": []
   },
   "outputs": [
    {
     "name": "stdout",
     "output_type": "stream",
     "text": [
      "Sampling probability = 0.009999999999999992\n",
      "Expected (observed) number of tips = 100.0\n",
      "Expected (unobserved) number of tips = 10000.00000000001\n"
     ]
    }
   ],
   "source": [
    "expected_ntips_obs = 100\n",
    "expected_ntips_unobs = 10000\n",
    "\n",
    "λ = 1\n",
    "t = np.log(expected_ntips_unobs)/λ\n",
    "dt = .01\n",
    "\n",
    "rho0 = min(expected_ntips_obs / np.exp(λ*t), 1)\n",
    "print(f\"Sampling probability = {rho0}\")\n",
    "print(f\"Expected (observed) number of tips = {rho0 * np.exp(λ*t)}\")\n",
    "print(f\"Expected (unobserved) number of tips = {np.exp(λ*t)}\")"
   ]
  },
  {
   "cell_type": "code",
   "execution_count": 42,
   "id": "54f8658f-af60-49de-a2bd-1a1f7888c612",
   "metadata": {
    "tags": []
   },
   "outputs": [
    {
     "data": {
      "image/png": "[encoded data removed]",
      "text/plain": [
       "<Figure size 640x480 with 1 Axes>"
      ]
     },
     "metadata": {},
     "output_type": "display_data"
    }
   ],
   "source": [
    "ts = np.arange(0,t,dt)\n",
    "Es = np.zeros(ts.shape)\n",
    "\n",
    "Es[0] = 1 - rho0\n",
    "for i in range(1,len(ts)):\n",
    "    Es[i] = Es[i-1] + dt*λ*(Es[i-1]**2-Es[i-1])\n",
    "    \n",
    "plt.plot(ts,1-Es);\n",
    "plt.ylabel(\"in sample probability\");\n",
    "plt.xlabel(\"time (since present)\");"
   ]
  },
  {
   "cell_type": "code",
   "execution_count": 43,
   "id": "3822f77d-e9a0-422f-bee8-41ce5d4e7b52",
   "metadata": {
    "tags": []
   },
   "outputs": [],
   "source": [
    "def Efnc(t):\n",
    "    return np.interp(t,ts,Es)\n",
    "\n",
    "def modulation(λ, x, t):\n",
    "    # return λ \n",
    "    return λ * (1-Efnc(t))"
   ]
  },
  {
   "cell_type": "code",
   "execution_count": 44,
   "id": "62828f25-90f7-4cda-b51f-0ee4c3b292e8",
   "metadata": {
    "tags": []
   },
   "outputs": [],
   "source": [
    "birth_rate_modulated = poisson.ModulatedRateResponse(\n",
    "    poisson.ConstantResponse(λ),\n",
    "    modulation\n",
    ")\n",
    "birth_rate_base = poisson.ConstantResponse(λ)\n",
    "death_rate = poisson.ConstantResponse(0.0)\n",
    "mutation_rate = poisson.ConstantResponse(0.0)"
   ]
  },
  {
   "cell_type": "code",
   "execution_count": 45,
   "id": "c3797a48-fba1-43dd-bde5-4a44f67c24fb",
   "metadata": {
    "tags": []
   },
   "outputs": [],
   "source": [
    "mutator = mutators.DiscreteMutator(state_space=[0],transition_matrix=np.matrix([1]))"
   ]
  },
  {
   "cell_type": "code",
   "execution_count": 46,
   "id": "8a46cfc2-0190-47b0-bd06-d976477bc5c8",
   "metadata": {
    "tags": []
   },
   "outputs": [
    {
     "name": "stdout",
     "output_type": "stream",
     "text": [
      "try 1 succeeded, tip count: 73\r"
     ]
    }
   ],
   "source": [
    "%%time\n",
    "\n",
    "# modulated simulation\n",
    "tip_counts_modulated = []\n",
    "times_modulated = []\n",
    "error_seeds_modulated = []\n",
    "for i in range(1):\n",
    "    rng = np.random.default_rng(seed=i)\n",
    "    try:\n",
    "        start_time = time.time()\n",
    "        tree = bdms.TreeNode()\n",
    "        tree.x = 0\n",
    "        tree.evolve(\n",
    "            t,\n",
    "            birth_response=birth_rate_modulated,\n",
    "            death_response=death_rate,\n",
    "            mutation_response=mutation_rate,\n",
    "            mutator=mutator,\n",
    "            min_survivors=1,\n",
    "            capacity=10000,\n",
    "            birth_mutations=False,\n",
    "            seed=rng,\n",
    "        )\n",
    "        times_modulated = times_modulated + [time.time() - start_time]\n",
    "        print(f\"try {i + 1} succeeded, tip count: {len(tree)}\",end=\"\\r\")\n",
    "        tip_counts_modulated = tip_counts_modulated + [len(tree)]\n",
    "    except:\n",
    "        error_seeds_modulated = error_seeds_modulated + [i]\n",
    "        continue"
   ]
  },
  {
   "cell_type": "code",
   "execution_count": null,
   "id": "1cdb8b5b-6584-4e27-abd6-d7b2c6369d40",
   "metadata": {
    "tags": []
   },
   "outputs": [],
   "source": [
    "%%time\n",
    "\n",
    "# full simulation\n",
    "tip_counts_pruned = []\n",
    "tip_counts_full = []\n",
    "times_base = []\n",
    "error_seeds_base = []\n",
    "for i in range(50):\n",
    "    rng = np.random.default_rng(seed=i)\n",
    "    try:\n",
    "        start_time = time.time()\n",
    "        tree = bdms.TreeNode()\n",
    "        tree.x = 0\n",
    "        tree.evolve(\n",
    "            t,\n",
    "            birth_response=birth_rate_base,\n",
    "            death_response=death_rate,\n",
    "            mutation_response=mutation_rate,\n",
    "            mutator=mutator,\n",
    "            min_survivors=1,\n",
    "            capacity=10000,\n",
    "            birth_mutations=False,\n",
    "            seed=rng,\n",
    "        )\n",
    "        tip_counts_full = tip_counts_full + [len(tree)]\n",
    "        tree.sample_survivors(p=rho0)\n",
    "        tree.prune()\n",
    "        print(f\"try {i + 1} succeeded, tip count: {len(tree)}\",end=\"\\r\")\n",
    "        tip_counts_pruned = tip_counts_pruned + [len(tree)]\n",
    "        times_base = times_base + [time.time() - start_time]\n",
    "    except:\n",
    "        error_seeds_base = error_seeds_base + [i]\n",
    "        continue"
   ]
  },
  {
   "cell_type": "code",
   "execution_count": null,
   "id": "7b1bc856-baff-4bdf-866f-032f0d53f214",
   "metadata": {},
   "outputs": [],
   "source": []
  }
 ],
 "metadata": {
  "kernelspec": {
   "display_name": "Python 3 (ipykernel)",
   "language": "python",
   "name": "python3"
  },
  "language_info": {
   "codemirror_mode": {
    "name": "ipython",
    "version": 3
   },
   "file_extension": ".py",
   "mimetype": "text/x-python",
   "name": "python",
   "nbconvert_exporter": "python",
   "pygments_lexer": "ipython3",
   "version": "3.9.18"
  }
 },
 "nbformat": 4,
 "nbformat_minor": 5
}
