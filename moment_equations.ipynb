{
 "cells": [
  {
   "cell_type": "code",
   "execution_count": 15,
   "metadata": {},
   "outputs": [],
   "source": [
    "from scipy.integrate import odeint\n",
    "import numpy as np\n",
    "\n",
    "from functools import partial"
   ]
  },
  {
   "cell_type": "code",
   "execution_count": 16,
   "metadata": {},
   "outputs": [],
   "source": [
    "def dpopdt(\n",
    "    pop: np.ndarray,\n",
    "    t: float,\n",
    "    birth_rates: np.ndarray,\n",
    "    death_rates: np.ndarray,\n",
    "    mutation_rates: np.ndarray,\n",
    "    transition_matrix: np.ndarray,\n",
    "):\n",
    "    return (\n",
    "        birth_rates * pop - death_rates * pop + mutation_rates * pop @ transition_matrix\n",
    "    )"
   ]
  },
  {
   "cell_type": "code",
   "execution_count": 28,
   "metadata": {},
   "outputs": [
    {
     "data": {
      "text/plain": [
       "array([[0.00000000e+00, 1.00000000e+00],\n",
       "       [3.01038906e+01, 1.23534194e+02],\n",
       "       [3.81274261e+03, 1.56231940e+04],\n",
       "       [4.82209438e+05, 1.97590993e+06],\n",
       "       [6.09864071e+07, 2.49898981e+08]])"
      ]
     },
     "execution_count": 28,
     "metadata": {},
     "output_type": "execute_result"
    }
   ],
   "source": [
    "# multitype_high_birth_fitness\n",
    "\n",
    "init_pop = np.array([0.0, 1.0])\n",
    "birth_rates = np.array([0.25, 1.0])\n",
    "death_rates = np.array([0.5, 0.25])\n",
    "mutation_rates = np.array([0.1, 0.25])\n",
    "transition_matrix = np.array([[0.0, 1.0], [1.0, 0.0]])\n",
    "\n",
    "model = partial(\n",
    "    dpopdt,\n",
    "    birth_rates=birth_rates,\n",
    "    death_rates=death_rates,\n",
    "    mutation_rates=mutation_rates,\n",
    "    transition_matrix=transition_matrix,\n",
    ")\n",
    "\n",
    "ts = np.linspace(0, 25, 5)\n",
    "pop_hist = odeint(model, init_pop, ts)\n",
    "pop_hist"
   ]
  },
  {
   "cell_type": "code",
   "execution_count": 18,
   "metadata": {},
   "outputs": [
    {
     "data": {
      "text/plain": [
       "array([[  0.        ,   1.        ],\n",
       "       [  2.53246755,   3.88057562],\n",
       "       [ 12.35963016,  15.13903429],\n",
       "       [ 50.69743016,  59.13942161],\n",
       "       [200.46070999, 231.09986611]])"
      ]
     },
     "execution_count": 18,
     "metadata": {},
     "output_type": "execute_result"
    }
   ],
   "source": [
    "init_pop = np.array([0.0, 1.0])\n",
    "birth_rates = np.array([0.0, 1.0])\n",
    "death_rates = np.array([0.01, 0.1])\n",
    "mutation_rates = np.array([0.01, 0.8])\n",
    "transition_matrix = np.array([[0.0, 1.0], [1.0, 0.0]])\n",
    "\n",
    "model = partial(\n",
    "    dpopdt,\n",
    "    birth_rates=birth_rates,\n",
    "    death_rates=death_rates,\n",
    "    mutation_rates=mutation_rates,\n",
    "    transition_matrix=transition_matrix,\n",
    ")\n",
    "\n",
    "ts = np.linspace(0, 6, 5)\n",
    "pop_hist = odeint(model, init_pop, ts)\n",
    "pop_hist"
   ]
  },
  {
   "cell_type": "code",
   "execution_count": 19,
   "metadata": {},
   "outputs": [
    {
     "data": {
      "text/plain": [
       "array([[1.00000000e+00],\n",
       "       [5.18012910e+02],\n",
       "       [2.68337362e+05],\n",
       "       [1.39002211e+08],\n",
       "       [7.20049365e+10]])"
      ]
     },
     "execution_count": 19,
     "metadata": {},
     "output_type": "execute_result"
    }
   ],
   "source": [
    "# single_type_w_death_huge\n",
    "\n",
    "init_pop = np.array([1.0])\n",
    "birth_rates = np.array([1.0])\n",
    "death_rates = np.array([0.5])\n",
    "mutation_rates = np.array([0.0])\n",
    "transition_matrix = np.array([[1.0]])\n",
    "\n",
    "model = partial(\n",
    "    dpopdt,\n",
    "    birth_rates=birth_rates,\n",
    "    death_rates=death_rates,\n",
    "    mutation_rates=mutation_rates,\n",
    "    transition_matrix=transition_matrix,\n",
    ")\n",
    "\n",
    "ts = np.linspace(0, 50, 5)\n",
    "pop_hist = odeint(model, init_pop, ts)\n",
    "pop_hist"
   ]
  },
  {
   "cell_type": "code",
   "execution_count": null,
   "metadata": {},
   "outputs": [],
   "source": []
  }
 ],
 "metadata": {
  "kernelspec": {
   "display_name": "fitness-inference",
   "language": "python",
   "name": "python3"
  },
  "language_info": {
   "codemirror_mode": {
    "name": "ipython",
    "version": 3
   },
   "file_extension": ".py",
   "mimetype": "text/x-python",
   "name": "python",
   "nbconvert_exporter": "python",
   "pygments_lexer": "ipython3",
   "version": "3.9.18"
  }
 },
 "nbformat": 4,
 "nbformat_minor": 2
}
