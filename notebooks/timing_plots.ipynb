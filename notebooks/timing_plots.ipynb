{
 "cells": [
  {
   "cell_type": "code",
   "execution_count": null,
   "metadata": {},
   "outputs": [],
   "source": [
    "import pandas as pd\n",
    "import matplotlib.pyplot as plt\n",
    "from matplotlib.ticker import ScalarFormatter\n",
    "import numpy as np\n",
    "import seaborn as sns\n",
    "import pathlib\n",
    "import re\n",
    "import yaml\n",
    "\n",
    "\n",
    "\n",
    "import warnings\n",
    "\n",
    "warnings.filterwarnings(\"ignore\", category=FutureWarning)"
   ]
  },
  {
   "cell_type": "markdown",
   "metadata": {},
   "source": [
    "First we set up some global plotting parameters"
   ]
  },
  {
   "cell_type": "code",
   "execution_count": null,
   "metadata": {},
   "outputs": [],
   "source": [
    "with open('plot_settings.yml', 'r') as file:\n",
    "    config = yaml.safe_load(file)\n",
    "\n",
    "for key, value in config['paper']['rcParams'].items():\n",
    "    plt.rcParams[key] = value\n",
    "\n",
    "legend_info = config['paper']['legend_info']\n",
    "legend_labels = legend_info['legend_labels']\n",
    "fig_dpi = config['paper']['fig_dpi']\n",
    "palette = sns.color_palette(legend_info['sns_palette'], len(legend_info['mode_order']))\n",
    "sim_type_titles = {\n",
    "    'single_type_no_death': \"Single type w/o death\",\n",
    "    'single_type_w_death': \"Single type w/ death\",\n",
    "    'multitype_high_birth_fitness': \"Two type\",\n",
    "}\n",
    "\n",
    "fig_width = 1.5\n",
    "fig_height = 1"
   ]
  },
  {
   "cell_type": "markdown",
   "metadata": {},
   "source": [
    "This cell sets the directory in which we can find our data, as well as the simulation type this notebook will plot."
   ]
  },
  {
   "cell_type": "code",
   "execution_count": null,
   "metadata": {},
   "outputs": [],
   "source": [
    "sim_types = [\"single_type_no_death\", \"single_type_w_death\", \"multitype_high_birth_fitness\"]\n",
    "\n",
    "data_directory = pathlib.Path(\"data\")\n",
    "fig_directory = pathlib.Path(\"fig\")\n",
    "fig_directory.mkdir(parents=True, exist_ok=True)"
   ]
  },
  {
   "cell_type": "markdown",
   "metadata": {},
   "source": [
    "We collect all the data that we will needto make timing plots for the simulation type into `all_trees_metrics_df`."
   ]
  },
  {
   "cell_type": "code",
   "execution_count": null,
   "metadata": {},
   "outputs": [],
   "source": [
    "all_tree_metrics_df = pd.DataFrame()\n",
    "\n",
    "for sim_type in sim_types:\n",
    "    \n",
    "    for mode in [\"full\",\"FE\"]:\n",
    "\n",
    "        path_to_directory = data_directory/sim_type/mode  # This should be replaced with the actual path\n",
    "\n",
    "        # Regular expression pattern to extract 'rho' and 'counter' from the filenames\n",
    "        pattern = re.compile(rf\"tree_metrics_{sim_type}_rho(\\d+)_v(\\d+)_df\\.csv\")\n",
    "\n",
    "        # Iterate over all csv files in the directory\n",
    "        for file_path in path_to_directory.glob(f\"tree_metrics_{sim_type}_rho*_v*_df.csv\"):\n",
    "\n",
    "            # Use the regex pattern to search the filename string\n",
    "            match = pattern.search(file_path.name)\n",
    "            if match:\n",
    "                # Extract 'rho' and 'counter' from the regex groups\n",
    "                rho = int(match.group(1)) / 10  # Dividing by 10 because the filename contains 10*rho\n",
    "                counter = int(match.group(2))\n",
    "                \n",
    "                # Read the csv file\n",
    "                tree_metrics_df = pd.read_csv(file_path)[[\"seed\",\"time\",\"unpruned tree size\",\"pruned tree size\",\"pruned tree leaf count\"]]\n",
    "                tree_metrics_df[\"rho\"] = rho\n",
    "                tree_metrics_df[\"mode\"] = mode\n",
    "                tree_metrics_df[\"sim type\"] = sim_type\n",
    "\n",
    "                all_tree_metrics_df = pd.concat([all_tree_metrics_df, tree_metrics_df])\n",
    "\n",
    "\n",
    "        all_tree_metrics_df.head()\n"
   ]
  },
  {
   "cell_type": "markdown",
   "metadata": {},
   "source": [
    "TEMP"
   ]
  },
  {
   "cell_type": "code",
   "execution_count": null,
   "metadata": {},
   "outputs": [],
   "source": [
    "rhos = []\n",
    "num_trees = []\n",
    "\n",
    "sim_type = \"single_type_no_death\"\n",
    "mode = \"full\"\n",
    "\n",
    "path_to_directory = data_directory/sim_type/mode  # This should be replaced with the actual path\n",
    "\n",
    "# Regular expression pattern to extract 'rho' and 'counter' from the filenames\n",
    "pattern = re.compile(rf\"tree_metrics_{sim_type}_rho(\\d+)_v(\\d+)_df\\.csv\")\n",
    "\n",
    "# Iterate over all csv files in the directory\n",
    "for file_path in path_to_directory.glob(f\"tree_metrics_{sim_type}_rho*_v*_df.csv\"):\n",
    "\n",
    "    # Use the regex pattern to search the filename string\n",
    "    match = pattern.search(file_path.name)\n",
    "    if match:\n",
    "        # Extract 'rho' and 'counter' from the regex groups\n",
    "        rho = int(match.group(1)) / 10  # Dividing by 10 because the filename contains 10*rho\n",
    "        counter = int(match.group(2))\n",
    "        \n",
    "        # Read the csv file\n",
    "        tree_metrics_df = pd.read_csv(file_path)\n",
    "        rhos.append(rho)\n",
    "        num_trees.append(tree_metrics_df.shape[0])"
   ]
  },
  {
   "cell_type": "code",
   "execution_count": null,
   "metadata": {},
   "outputs": [],
   "source": [
    "print(num_trees)\n",
    "plt.scatter(rhos,num_trees)\n",
    "# plt.ylim(bottom = 0)\n",
    "plt.savefig('num_trees_with_rho_partial_axis_single_type_no_death.pdf')"
   ]
  },
  {
   "cell_type": "markdown",
   "metadata": {},
   "source": [
    "We make a scatter plot in which each point is a simulated tree, on the x-axis is the total number of nodes (which includes death and mutation events) in the \"unpruned tree\", and the y-axis is the time it took to simulate this tree. \n",
    "\n",
    "The time a simulation takes is a nearly deterministic function of the number of events in the tree. Because, in these simulation, the full simulation can draw has events arriving according to constant rate Poisson processes and the forward equivalent simulation has events arriving according to variable rate Poisson process, there is some computational overhead in the forward equivalent simulation when we compare at a fixed value of the unpruned tree size. Note, however, that in the forward equivalent simulations, the unpruned trees tend to be much smaller, because they are exactly the same size as the pruned trees."
   ]
  },
  {
   "cell_type": "code",
   "execution_count": null,
   "metadata": {},
   "outputs": [],
   "source": [
    "%%capture\n",
    "\n",
    "# List of x-axis column names for the plots\n",
    "# x_columns = [\"rho\", \"unpruned tree size\", \"pruned tree size\", \"pruned tree leaf count\"]\n",
    "x_columns = [\"unpruned tree size\"]\n",
    "\n",
    "sim_idx = 0\n",
    "sim_type = sim_types[sim_idx]\n",
    "\n",
    "# Loop over each x-axis column name and create a plot\n",
    "for x_col in x_columns:\n",
    "    plt.figure(figsize=(fig_width, fig_height), dpi = fig_dpi)\n",
    "    ax = sns.scatterplot(data=all_tree_metrics_df[all_tree_metrics_df[\"sim type\"] == sim_type], x=x_col, y=\"time\", hue=\"mode\", s = 10, palette=palette, hue_order=legend_info['mode_order'])\n",
    "\n",
    "    handles = ax.get_legend().legend_handles\n",
    "    labels = [text.get_text() for text in ax.get_legend().get_texts()]\n",
    "    ax.get_legend().remove()  # Remove the legend from the current plot, but keep the plot itself\n",
    "\n",
    "    # Set the y-axis to use ScalarFormatter\n",
    "    ax.yaxis.set_major_formatter(ScalarFormatter(useMathText=True))\n",
    "    ax.ticklabel_format(style='sci', axis='y', scilimits=(0,0), useMathText=True)\n",
    "\n",
    "    # Adjust the position of the offset text (scientific notation part)\n",
    "    # ax.yaxis.get_offset_text().set_position((0,1)) # Uncomment this to adjust position\n",
    "    ax.yaxis.get_offset_text().set_visible(True)\n",
    "\n",
    "    plt.savefig(fig_directory/f\"{sim_type}_{x_col.replace(' ','_')}_vs_time.pdf\", bbox_inches=\"tight\", dpi = fig_dpi)\n"
   ]
  },
  {
   "cell_type": "markdown",
   "metadata": {},
   "source": [
    "Because the forward equivalent simulation does not need to track all the events that occur in the full, unobserved tree, it can be dramatically faster than the full simulation, with speed-ups most dramatic when a smaller fraction fo the full tree is observed."
   ]
  },
  {
   "cell_type": "code",
   "execution_count": null,
   "metadata": {},
   "outputs": [],
   "source": [
    "%%capture\n",
    "\n",
    "# Calculate the sum of 'time' for each value of 'rho'\n",
    "time_sum = all_tree_metrics_df.groupby(['rho','mode','sim type'])['time'].sum().reset_index()\n",
    "\n",
    "# Calculate the count of rows where 'pruned tree size' is greater than 0 for each value of 'rho'\n",
    "count_pruned_greater_than_zero = all_tree_metrics_df[all_tree_metrics_df['pruned tree size'] > 0].groupby(['rho','mode','sim type']).size().reset_index(name='count')\n",
    "\n",
    "# Merge the two dataframes on 'rho'\n",
    "merged_df = pd.merge(time_sum, count_pruned_greater_than_zero, on=['rho','mode','sim type'])\n",
    "\n",
    "# Calculate the average time as required\n",
    "merged_df['average_time'] = merged_df['time'] / merged_df['count']\n",
    "\n",
    "# Now use seaborn to plot this\n",
    "fig, axs = plt.subplots(nrows = 3, ncols = 1, sharex = True,\n",
    "                        figsize=(fig_width, 3*(1.5)*fig_height))\n",
    "\n",
    "for sim_idx, sim_type in enumerate(sim_types):\n",
    "\n",
    "    ax = sns.scatterplot(data=merged_df[merged_df['sim type'] == sim_type], \n",
    "                         x='rho', y='average_time', \n",
    "                         hue='mode', s=10, \n",
    "                         palette=palette, \n",
    "                         hue_order=legend_info['mode_order'],\n",
    "                         ax = axs[sim_idx])\n",
    "    axs[sim_idx].set_title(sim_type_titles[sim_type], pad=2)\n",
    "\n",
    "    # Legend\n",
    "    handles = ax.get_legend().legend_handles\n",
    "    labels = [text.get_text() for text in ax.get_legend().get_texts()]\n",
    "    ax.get_legend().remove()  # Remove the legend from the current plot, but keep the plot itself\n",
    "\n",
    "    # Set labels and title\n",
    "    ax.set_xlabel(r'$\\rho$')\n",
    "\n",
    "    # Set the y-axis to use ScalarFormatter\n",
    "    ax.yaxis.set_major_formatter(ScalarFormatter(useMathText=True))\n",
    "    ax.ticklabel_format(style='sci', axis='y', scilimits=(0,0), useMathText=True)\n",
    "\n",
    "    # Adjust the position of the offset text (scientific notation part)\n",
    "    fig.canvas.draw()\n",
    "    axis_scale_text = ax.yaxis.get_offset_text().get_text().replace('\\\\times', '')\n",
    "    ax.yaxis.get_offset_text().set_visible(False)\n",
    "    ax.set_ylabel(rf'Time per Tree ({axis_scale_text} s)')\n",
    "    \n",
    "\n",
    "    ax.set_xlim(left=0)\n",
    "    ax.set_ylim(bottom=0)\n",
    "\n",
    "plt.savefig(fig_directory/f\"time_vs_rho.pdf\", bbox_inches=\"tight\", dpi = fig_dpi)"
   ]
  },
  {
   "cell_type": "code",
   "execution_count": null,
   "metadata": {},
   "outputs": [],
   "source": [
    "%%capture\n",
    "\n",
    "# Separate the 'FE' and 'full' data\n",
    "fe_df = merged_df[merged_df['mode'] == 'FE'].set_index(['rho','sim type'])\n",
    "full_df = merged_df[merged_df['mode'] == 'full'].set_index(['rho','sim type'])\n",
    "\n",
    "# Calculate the speed up, which is the time for 'full' divided by the time for 'FE'\n",
    "speed_up_df = (full_df['average_time'] / fe_df['average_time']).reset_index(name='speed_up')\n",
    "\n",
    "fig, axs = plt.subplots(nrows = 3, ncols = 1, sharex = True,\n",
    "                        figsize=(fig_width, 3*(1.5)*fig_height))\n",
    "\n",
    "for sim_idx, sim_type in enumerate(sim_types):\n",
    "\n",
    "    ax = sns.scatterplot(data=speed_up_df[speed_up_df['sim type'] == sim_type],\n",
    "                    x='rho', y='speed_up', s=10, color = 'black',\n",
    "                    ax=axs[sim_idx])\n",
    "    axs[sim_idx].set_title(sim_type_titles[sim_type], pad=2)\n",
    "    ax.axhline(y=1,linestyle='--',color=\"grey\")\n",
    "\n",
    "    ax.set_ylim(bottom=0)\n",
    "\n",
    "    ax.set_xlabel(r'$\\rho$')\n",
    "    ax.set_ylabel('Speed up factor')\n",
    "\n",
    "plt.savefig(fig_directory/f\"speed_up.pdf\", bbox_inches=\"tight\", dpi = fig_dpi)\n"
   ]
  },
  {
   "cell_type": "code",
   "execution_count": null,
   "metadata": {},
   "outputs": [],
   "source": [
    "%%capture\n",
    "\n",
    "# Change labels to desired labels\n",
    "labels = [legend_info['legend_labels'][label] for label in labels]\n",
    "# Create a new figure just for the legend\n",
    "legend_fig, legend_ax = plt.subplots(figsize=(3, .5))  # Create a new subplot\n",
    "# Add the legend to the subplot\n",
    "legend = legend_ax.legend(handles, labels, loc='center', ncol = len(labels))\n",
    "legend_ax.axis('off')  # Turn off the axis\n",
    "\n",
    "# Draw the legend figure canvas before saving or showing\n",
    "legend_fig.canvas.draw()\n",
    "plt.tight_layout()\n",
    "\n",
    "# Save the legend to a file\n",
    "plt.savefig(fig_directory/'legend.pdf', bbox_inches='tight', pad_inches = 0)"
   ]
  }
 ],
 "metadata": {
  "kernelspec": {
   "display_name": "fe-sim",
   "language": "python",
   "name": "python3"
  },
  "language_info": {
   "codemirror_mode": {
    "name": "ipython",
    "version": 3
   },
   "file_extension": ".py",
   "mimetype": "text/x-python",
   "name": "python",
   "nbconvert_exporter": "python",
   "pygments_lexer": "ipython3",
   "version": "3.12.1"
  }
 },
 "nbformat": 4,
 "nbformat_minor": 2
}
