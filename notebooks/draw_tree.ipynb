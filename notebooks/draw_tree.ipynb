{
 "cells": [
  {
   "cell_type": "code",
   "execution_count": null,
   "metadata": {},
   "outputs": [],
   "source": [
    "import pathlib\n",
    "import yaml\n",
    "\n",
    "import ete3\n",
    "import matplotlib as mpl\n",
    "import matplotlib.pyplot as plt\n",
    "import matplotlib.pyplot as plt"
   ]
  },
  {
   "cell_type": "code",
   "execution_count": null,
   "metadata": {},
   "outputs": [],
   "source": [
    "newick_path = pathlib.Path(\"data/multitype_high_birth_fitness_huge/FE/trees/tree_2.nw\")\n",
    "fig_directory = pathlib.Path(\"fig\")\n",
    "fig_directory.mkdir(parents=True, exist_ok=True)"
   ]
  },
  {
   "cell_type": "code",
   "execution_count": null,
   "metadata": {},
   "outputs": [],
   "source": [
    "tree = ete3.Tree(str(newick_path), format = 1)\n",
    "for node in tree.traverse():\n",
    "    node.t = float(node.t)\n",
    "    node.state = int(node.state)"
   ]
  },
  {
   "cell_type": "code",
   "execution_count": null,
   "metadata": {},
   "outputs": [],
   "source": [
    "max_t = max(node.t for node in tree.traverse())\n",
    "color_by = \"state\"\n",
    "n_leaves = len(tree)\n",
    "\n",
    "w = 6\n",
    "h = 1.5\n",
    "dpi = 600\n",
    "my_scale = dpi * h / (max_t - tree.t)\n",
    "\n",
    "spacing_to_linewidth = 6.0\n",
    "linewidth = int(\n",
    "    min(w / (n_leaves + spacing_to_linewidth * (n_leaves - 1)) * dpi, 0.0125 * dpi)\n",
    ")\n",
    "branch_spacing = (w * dpi - n_leaves * linewidth) / (n_leaves - 1)\n",
    "tree_width = linewidth * n_leaves + branch_spacing * (n_leaves - 1)\n",
    "\n",
    "colors = ['#4c72b0', '#dd8452']\n",
    "colormap = {\n",
    "    node.name: colors[node.state-1]\n",
    "    for node in tree.traverse()\n",
    "}\n",
    "\n",
    "for node in tree.traverse():\n",
    "    nstyle = ete3.NodeStyle()\n",
    "    nstyle[\"hz_line_width\"] = linewidth  # Horizontal line width\n",
    "    nstyle[\"vt_line_width\"] = linewidth  # Vertical line width\n",
    "    nstyle[\"size\"] = 0.0\n",
    "    nstyle[\"hz_line_color\"] = colormap[node.name]\n",
    "    nstyle[\"vt_line_color\"] = colormap[node.name]\n",
    "    nstyle[\"draw_descendants\"] = True\n",
    "    node.set_style(nstyle)\n",
    "\n",
    "tree_style = ete3.TreeStyle()\n",
    "tree_style.show_leaf_name = False\n",
    "tree_style.show_scale = False\n",
    "tree_style.min_leaf_separation = branch_spacing\n",
    "tree_style.rotation = 90\n",
    "tree_style.tree_width = tree_width\n",
    "tree_style.margin_left = 0\n",
    "tree_style.margin_right = 0\n",
    "tree_style.margin_top = 0\n",
    "tree_style.margin_bottom = 0\n",
    "tree_style.scale = my_scale\n",
    "tree_style.allow_face_overlap = True\n",
    "\n",
    "ete3.Tree.render(\n",
    "    tree, file_name = str(fig_directory / \"multitype_huge.pdf\"), units=\"in\", dpi=dpi, tree_style=tree_style\n",
    ");\n",
    "\n",
    "# Make legend\n",
    "colors = ['#4c72b0', '#dd8452']\n",
    "labels = [\"Low fitness\", \"High fitness\"]\n",
    "\n",
    "handles = [\n",
    "    mpl.lines.Line2D(\n",
    "        [0],\n",
    "        [0],\n",
    "        marker=\"s\",\n",
    "        color=\"w\",\n",
    "        label=label,\n",
    "        markerfacecolor=color,\n",
    "        markersize=10,\n",
    "    )\n",
    "    for color, label in zip(colors, labels)\n",
    "]\n",
    "\n",
    "fig = plt.figure(figsize=(3, 3))\n",
    "fig.legend(handles=handles, labels=labels, loc=\"center\", ncol=2)\n",
    "fig.savefig(fig_directory / \"multitype_huge_legend.pdf\", bbox_inches=\"tight\");"
   ]
  },
  {
   "cell_type": "code",
   "execution_count": null,
   "metadata": {},
   "outputs": [],
   "source": []
  }
 ],
 "metadata": {
  "kernelspec": {
   "display_name": "fe-sim",
   "language": "python",
   "name": "python3"
  },
  "language_info": {
   "codemirror_mode": {
    "name": "ipython",
    "version": 3
   },
   "file_extension": ".py",
   "mimetype": "text/x-python",
   "name": "python",
   "nbconvert_exporter": "python",
   "pygments_lexer": "ipython3",
   "version": "3.12.1"
  }
 },
 "nbformat": 4,
 "nbformat_minor": 4
}
