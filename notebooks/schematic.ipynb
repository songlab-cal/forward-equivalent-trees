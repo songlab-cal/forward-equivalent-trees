{
 "cells": [
  {
   "cell_type": "markdown",
   "metadata": {},
   "source": [
    "# Schematic\n",
    "\n",
    "Illustrate pruning"
   ]
  },
  {
   "cell_type": "code",
   "execution_count": null,
   "metadata": {},
   "outputs": [],
   "source": [
    "import numpy as np\n",
    "import bdms\n",
    "import ete3\n",
    "import yaml\n",
    "import matplotlib.pyplot as plt\n",
    "import seaborn as sns\n",
    "import pathlib"
   ]
  },
  {
   "cell_type": "code",
   "execution_count": null,
   "metadata": {},
   "outputs": [],
   "source": [
    "with open('plot_settings.yml', 'r') as file:\n",
    "    config = yaml.safe_load(file)\n",
    "\n",
    "for key, value in config['paper']['rcParams'].items():\n",
    "    plt.rcParams[key] = value\n",
    "\n",
    "colors = config['paper']['legend_info']['sns_palette']\n",
    "sns.palplot(colors)"
   ]
  },
  {
   "cell_type": "code",
   "execution_count": null,
   "metadata": {},
   "outputs": [],
   "source": [
    "birth = bdms.poisson.ConstantProcess(1.0)\n",
    "death = bdms.poisson.DiscreteProcess([0.0, 2.0])\n",
    "mutation = bdms.poisson.ConstantProcess(1.0)\n",
    "mutator = bdms.mutators.DiscreteMutator((0, 1), np.array([[0, 1], [1, 0]]))"
   ]
  },
  {
   "cell_type": "code",
   "execution_count": null,
   "metadata": {},
   "outputs": [],
   "source": [
    "rng = np.random.default_rng(seed=2)"
   ]
  },
  {
   "cell_type": "code",
   "execution_count": null,
   "metadata": {},
   "outputs": [],
   "source": [
    "tree = bdms.Tree(state=0)"
   ]
  },
  {
   "cell_type": "code",
   "execution_count": null,
   "metadata": {},
   "outputs": [],
   "source": [
    "time_to_sampling = 4.9\n",
    "\n",
    "tree.evolve(\n",
    "    time_to_sampling,\n",
    "    birth_process=birth,\n",
    "    death_process=death,\n",
    "    mutation_process=mutation,\n",
    "    mutator=mutator,\n",
    "    seed=rng,\n",
    ")"
   ]
  },
  {
   "cell_type": "code",
   "execution_count": null,
   "metadata": {},
   "outputs": [],
   "source": [
    "tree.sample_survivors(n=5, seed=rng)"
   ]
  },
  {
   "cell_type": "code",
   "execution_count": null,
   "metadata": {},
   "outputs": [],
   "source": [
    "tree.ladderize()"
   ]
  },
  {
   "cell_type": "code",
   "execution_count": null,
   "metadata": {},
   "outputs": [],
   "source": [
    "def rotate_labels(node):\n",
    "    ns = ete3.NodeStyle()\n",
    "    if node.is_leaf() and node.name is not None:\n",
    "        F = ete3.TextFace(node.name)\n",
    "        F.rotation = -90\n",
    "        F.margin_right = F.margin_left = 2.0\n",
    "        node.add_face(F, 0, position=\"aligned\")\n",
    "        # node.img_style = ns\n",
    "\n",
    "ts = ete3.TreeStyle()\n",
    "ts.branch_vertical_margin = 2\n",
    "ts.show_leaf_name = False\n",
    "ts.show_scale = False\n",
    "ts.rotation = 90\n",
    "ts.scale=40\n",
    "ts.layout_fn = rotate_labels\n",
    "\n",
    "color_map = {0: colors[0], 1: colors[1]}\n",
    "\n",
    "viz_kwargs = dict(\n",
    "    color_map=color_map,\n",
    "    h=4, units=\"in\",\n",
    "    tree_style=ts,\n",
    ")"
   ]
  },
  {
   "cell_type": "markdown",
   "metadata": {},
   "source": [
    "Customize the render function"
   ]
  },
  {
   "cell_type": "code",
   "execution_count": null,
   "metadata": {},
   "outputs": [],
   "source": [
    "import ete3\n",
    "\n",
    "def render(tree, file_name: str, color_by=\"state\", color_map=None, **kwargs):\n",
    "    event_cache = tree.get_cached_content(store_attr=\"event\", leaves_only=False)\n",
    "    if (not tree._pruned) or (not tree._mutations_removed):\n",
    "        for node in tree.traverse():\n",
    "            nstyle = ete3.NodeStyle()\n",
    "            if (\n",
    "                tree._SURVIVAL_EVENT not in event_cache[node]\n",
    "                and tree._SAMPLING_EVENT not in event_cache[node]\n",
    "            ):\n",
    "                nstyle[\"hz_line_type\"] = 1\n",
    "                nstyle[\"vt_line_type\"] = 1\n",
    "                nstyle[\"hz_line_width\"] = 1\n",
    "                nstyle[\"vt_line_width\"] = 1\n",
    "            elif tree._SAMPLING_EVENT not in event_cache[node]:\n",
    "                nstyle[\"hz_line_type\"] = 0\n",
    "                nstyle[\"vt_line_type\"] = 0\n",
    "                nstyle[\"hz_line_width\"] = 1\n",
    "                nstyle[\"vt_line_width\"] = 1\n",
    "            else:\n",
    "                nstyle[\"hz_line_type\"] = 0\n",
    "                nstyle[\"vt_line_type\"] = 0\n",
    "                nstyle[\"hz_line_width\"] = 3\n",
    "                nstyle[\"vt_line_width\"] = 3\n",
    "            if color_map is not None:\n",
    "                assert color_by is not None\n",
    "                nstyle[\"vt_line_color\"] = color_map[getattr(node, color_by)]\n",
    "                if not node.is_root():\n",
    "                    assert node.up is not None\n",
    "                    nstyle[\"hz_line_color\"] = color_map[getattr(node.up, color_by)]\n",
    "                nstyle[\"fgcolor\"] = color_map[getattr(node, color_by)]\n",
    "            nstyle[\"size\"] = 0\n",
    "            node.set_style(nstyle)\n",
    "    else:\n",
    "        for node in tree.traverse():\n",
    "            nstyle = ete3.NodeStyle()\n",
    "            nstyle[\"hz_line_width\"] = 3\n",
    "            nstyle[\"vt_line_width\"] = 3\n",
    "            if color_map is not None:\n",
    "                assert color_by is not None\n",
    "                nstyle[\"fgcolor\"] = color_map[getattr(node, color_by)]\n",
    "            if not node.is_root() and not getattr(node.faces, \"branch-bottom\"):\n",
    "                node.add_face(tree._mutation_face, 0, position=\"branch-bottom\")\n",
    "            node.set_style(nstyle)\n",
    "\n",
    "    return ete3.Tree.render(tree, file_name, **kwargs)"
   ]
  },
  {
   "cell_type": "code",
   "execution_count": null,
   "metadata": {},
   "outputs": [],
   "source": [
    "i = 0\n",
    "for leaf in reversed(list(tree.iter_leaves())):\n",
    "    if leaf.event == \"sampling\":\n",
    "        i += 1\n",
    "        leaf.name = i\n",
    "    else:\n",
    "        leaf.name = None\n"
   ]
  },
  {
   "cell_type": "code",
   "execution_count": null,
   "metadata": {},
   "outputs": [],
   "source": [
    "fig_directory = pathlib.Path(\"fig/schematic\")\n",
    "fig_directory.mkdir(parents=True, exist_ok=True)"
   ]
  },
  {
   "cell_type": "code",
   "execution_count": null,
   "metadata": {},
   "outputs": [],
   "source": [
    "render(tree, f\"{fig_directory}/full.pdf\", **viz_kwargs);\n",
    "# render(tree, \"%%inline\", **viz_kwargs)"
   ]
  },
  {
   "cell_type": "code",
   "execution_count": null,
   "metadata": {},
   "outputs": [],
   "source": [
    "tree.prune_unsampled()"
   ]
  },
  {
   "cell_type": "code",
   "execution_count": null,
   "metadata": {},
   "outputs": [],
   "source": [
    "ts.layout_fn = []"
   ]
  },
  {
   "cell_type": "code",
   "execution_count": null,
   "metadata": {},
   "outputs": [],
   "source": [
    "viz_kwargs = dict(\n",
    "    color_map=color_map,\n",
    "    # w=10, units=\"in\",\n",
    "    tree_style=ts,\n",
    ")"
   ]
  },
  {
   "cell_type": "code",
   "execution_count": null,
   "metadata": {},
   "outputs": [],
   "source": [
    "render(tree, f\"{fig_directory}/pruned.pdf\", **viz_kwargs);\n",
    "# render(tree, \"%%inline\", **viz_kwargs)"
   ]
  },
  {
   "cell_type": "code",
   "execution_count": null,
   "metadata": {},
   "outputs": [],
   "source": []
  }
 ],
 "metadata": {
  "kernelspec": {
   "display_name": "fe-sim",
   "language": "python",
   "name": "python3"
  },
  "language_info": {
   "codemirror_mode": {
    "name": "ipython",
    "version": 3
   },
   "file_extension": ".py",
   "mimetype": "text/x-python",
   "name": "python",
   "nbconvert_exporter": "python",
   "pygments_lexer": "ipython3",
   "version": "3.12.1"
  }
 },
 "nbformat": 4,
 "nbformat_minor": 2
}
